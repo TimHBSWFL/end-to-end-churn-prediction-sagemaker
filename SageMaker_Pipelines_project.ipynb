{
 "cells": [
  {
   "cell_type": "code",
   "execution_count": 1,
   "metadata": {},
   "outputs": [
    {
     "name": "stdout",
     "output_type": "stream",
     "text": [
      "sagemaker.config INFO - Not applying SDK defaults from location: /etc/xdg/sagemaker/config.yaml\n",
      "sagemaker.config INFO - Not applying SDK defaults from location: /home/sagemaker-user/.config/sagemaker/config.yaml\n"
     ]
    }
   ],
   "source": [
    "import boto3\n",
    "import sagemaker\n",
    "import datetime as dt\n",
    "import pandas as pd\n",
    "from io import BytesIO"
   ]
  },
  {
   "cell_type": "code",
   "execution_count": 2,
   "metadata": {},
   "outputs": [],
   "source": [
    "bucket_name = \"sagemaker-studio-619071335465-gekmibeales\""
   ]
  },
  {
   "cell_type": "code",
   "execution_count": 3,
   "metadata": {},
   "outputs": [],
   "source": [
    "region = boto3.Session().region_name\n",
    "role = sagemaker.get_execution_role()\n",
    "sagemaker_session = sagemaker.Session()\n",
    "sklearn_processor_version=\"0.23-1\"\n",
    "model_package_group_name=\"ChurnModelPackageGroup\"\n",
    "pipeline_name= \"ChurnModelSMPipeline\"\n",
    "clarify_image = sagemaker.image_uris.retrieve(framework='sklearn',version=sklearn_processor_version,region=region)"
   ]
  },
  {
   "cell_type": "code",
   "execution_count": 4,
   "metadata": {},
   "outputs": [
    {
     "data": {
      "text/html": [
       "<div>\n",
       "<style scoped>\n",
       "    .dataframe tbody tr th:only-of-type {\n",
       "        vertical-align: middle;\n",
       "    }\n",
       "\n",
       "    .dataframe tbody tr th {\n",
       "        vertical-align: top;\n",
       "    }\n",
       "\n",
       "    .dataframe thead th {\n",
       "        text-align: right;\n",
       "    }\n",
       "</style>\n",
       "<table border=\"1\" class=\"dataframe\">\n",
       "  <thead>\n",
       "    <tr style=\"text-align: right;\">\n",
       "      <th></th>\n",
       "      <th>custid</th>\n",
       "      <th>retained</th>\n",
       "      <th>created</th>\n",
       "      <th>firstorder</th>\n",
       "      <th>lastorder</th>\n",
       "      <th>esent</th>\n",
       "      <th>eopenrate</th>\n",
       "      <th>eclickrate</th>\n",
       "      <th>avgorder</th>\n",
       "      <th>ordfreq</th>\n",
       "      <th>paperless</th>\n",
       "      <th>refill</th>\n",
       "      <th>doorstep</th>\n",
       "      <th>favday</th>\n",
       "      <th>city</th>\n",
       "    </tr>\n",
       "  </thead>\n",
       "  <tbody>\n",
       "    <tr>\n",
       "      <th>0</th>\n",
       "      <td>6H6T6N</td>\n",
       "      <td>0</td>\n",
       "      <td>9/28/2012</td>\n",
       "      <td>8/11/2013</td>\n",
       "      <td>8/11/2013</td>\n",
       "      <td>29</td>\n",
       "      <td>100.000000</td>\n",
       "      <td>3.448276</td>\n",
       "      <td>14.52</td>\n",
       "      <td>0.000000</td>\n",
       "      <td>0</td>\n",
       "      <td>0</td>\n",
       "      <td>0</td>\n",
       "      <td>Monday</td>\n",
       "      <td>DEL</td>\n",
       "    </tr>\n",
       "    <tr>\n",
       "      <th>1</th>\n",
       "      <td>APCENR</td>\n",
       "      <td>1</td>\n",
       "      <td>12/19/2010</td>\n",
       "      <td>4/1/2011</td>\n",
       "      <td>1/19/2014</td>\n",
       "      <td>95</td>\n",
       "      <td>92.631579</td>\n",
       "      <td>10.526316</td>\n",
       "      <td>83.69</td>\n",
       "      <td>0.181641</td>\n",
       "      <td>1</td>\n",
       "      <td>1</td>\n",
       "      <td>1</td>\n",
       "      <td>Friday</td>\n",
       "      <td>DEL</td>\n",
       "    </tr>\n",
       "    <tr>\n",
       "      <th>2</th>\n",
       "      <td>7UP6MS</td>\n",
       "      <td>0</td>\n",
       "      <td>10/3/2010</td>\n",
       "      <td>12/1/2010</td>\n",
       "      <td>7/6/2011</td>\n",
       "      <td>0</td>\n",
       "      <td>0.000000</td>\n",
       "      <td>0.000000</td>\n",
       "      <td>33.58</td>\n",
       "      <td>0.059908</td>\n",
       "      <td>0</td>\n",
       "      <td>0</td>\n",
       "      <td>0</td>\n",
       "      <td>Wednesday</td>\n",
       "      <td>DEL</td>\n",
       "    </tr>\n",
       "    <tr>\n",
       "      <th>3</th>\n",
       "      <td>7ZEW8G</td>\n",
       "      <td>0</td>\n",
       "      <td>10/22/2010</td>\n",
       "      <td>3/28/2011</td>\n",
       "      <td>3/28/2011</td>\n",
       "      <td>0</td>\n",
       "      <td>0.000000</td>\n",
       "      <td>0.000000</td>\n",
       "      <td>54.96</td>\n",
       "      <td>0.000000</td>\n",
       "      <td>0</td>\n",
       "      <td>0</td>\n",
       "      <td>0</td>\n",
       "      <td>Thursday</td>\n",
       "      <td>BOM</td>\n",
       "    </tr>\n",
       "    <tr>\n",
       "      <th>4</th>\n",
       "      <td>8V726M</td>\n",
       "      <td>1</td>\n",
       "      <td>11/27/2010</td>\n",
       "      <td>11/29/2010</td>\n",
       "      <td>1/28/2013</td>\n",
       "      <td>30</td>\n",
       "      <td>90.000000</td>\n",
       "      <td>13.333333</td>\n",
       "      <td>111.91</td>\n",
       "      <td>0.008850</td>\n",
       "      <td>0</td>\n",
       "      <td>0</td>\n",
       "      <td>0</td>\n",
       "      <td>Monday</td>\n",
       "      <td>BOM</td>\n",
       "    </tr>\n",
       "  </tbody>\n",
       "</table>\n",
       "</div>"
      ],
      "text/plain": [
       "   custid  retained     created  firstorder  lastorder  esent   eopenrate  \\\n",
       "0  6H6T6N         0   9/28/2012   8/11/2013  8/11/2013     29  100.000000   \n",
       "1  APCENR         1  12/19/2010    4/1/2011  1/19/2014     95   92.631579   \n",
       "2  7UP6MS         0   10/3/2010   12/1/2010   7/6/2011      0    0.000000   \n",
       "3  7ZEW8G         0  10/22/2010   3/28/2011  3/28/2011      0    0.000000   \n",
       "4  8V726M         1  11/27/2010  11/29/2010  1/28/2013     30   90.000000   \n",
       "\n",
       "   eclickrate  avgorder   ordfreq  paperless  refill  doorstep     favday city  \n",
       "0    3.448276     14.52  0.000000          0       0         0     Monday  DEL  \n",
       "1   10.526316     83.69  0.181641          1       1         1     Friday  DEL  \n",
       "2    0.000000     33.58  0.059908          0       0         0  Wednesday  DEL  \n",
       "3    0.000000     54.96  0.000000          0       0         0   Thursday  BOM  \n",
       "4   13.333333    111.91  0.008850          0       0         0     Monday  BOM  "
      ]
     },
     "execution_count": 4,
     "metadata": {},
     "output_type": "execute_result"
    }
   ],
   "source": [
    "s3 = boto3.client('s3')\n",
    "\n",
    "file_key = 'storedata_total.csv'\n",
    "\n",
    "s3_object = s3.get_object(Bucket=bucket_name, Key=file_key)\n",
    "file_content = s3_object['Body'].read()\n",
    "\n",
    "df = pd.read_csv(BytesIO(file_content))\n",
    "df.head()"
   ]
  },
  {
   "cell_type": "code",
   "execution_count": 5,
   "metadata": {},
   "outputs": [],
   "source": [
    "df = pd.DataFrame(df)\n",
    "df.to_csv('data/storedata_total.csv', index=False)"
   ]
  },
  {
   "cell_type": "code",
   "execution_count": 6,
   "metadata": {},
   "outputs": [],
   "source": [
    "def preprocess_data(file_path):\n",
    "    df = pd.read_csv(file_path)\n",
    "    ## Convert to datetime columns\n",
    "    df[\"firstorder\"]=pd.to_datetime(df[\"firstorder\"],errors='coerce')\n",
    "    df[\"lastorder\"] = pd.to_datetime(df[\"lastorder\"],errors='coerce')\n",
    "    ## Drop Rows with null values\n",
    "    df = df.dropna()\n",
    "    ## Create Column which gives the days between the last order and the first order\n",
    "    df[\"first_last_days_diff\"] = (df['lastorder']-df['firstorder']).dt.days\n",
    "    ## Create Column which gives the days between when the customer record was created and the first order\n",
    "    df['created'] = pd.to_datetime(df['created'])\n",
    "    df['created_first_days_diff']=(df['created']-df['firstorder']).dt.days\n",
    "    ## Drop Columns\n",
    "    df.drop(['custid','created','firstorder','lastorder'],axis=1,inplace=True)\n",
    "    ## Apply one hot encoding on favday and city columns\n",
    "    df = pd.get_dummies(df,prefix=['favday','city'],columns=['favday','city'])\n",
    "    bool_cols = df.select_dtypes(include='bool').columns\n",
    "    df[bool_cols] = df[bool_cols].astype(int)\n",
    "    return df"
   ]
  },
  {
   "cell_type": "code",
   "execution_count": 7,
   "metadata": {},
   "outputs": [],
   "source": [
    "baseline_data = preprocess_data(\"data/storedata_total.csv\")\n",
    "baseline_data.pop(\"retained\")\n",
    "baseline_sample = baseline_data.sample(frac=0.0002)\n",
    "\n",
    "pd.DataFrame(baseline_sample).to_csv(\"data/baseline.csv\",header=False,index=False)"
   ]
  },
  {
   "cell_type": "code",
   "execution_count": 8,
   "metadata": {},
   "outputs": [],
   "source": [
    "batch_data = preprocess_data(\"data/storedata_total.csv\")\n",
    "batch_data.pop(\"retained\")\n",
    "batch_sample = batch_data.sample(frac=0.2)\n",
    "\n",
    "pd.DataFrame(batch_sample).to_csv(\"data/batch.csv\",header=False,index=False)"
   ]
  },
  {
   "cell_type": "code",
   "execution_count": 9,
   "metadata": {},
   "outputs": [],
   "source": [
    "s3_client = boto3.resource('s3')\n",
    "s3_client.Bucket(bucket_name).upload_file(\"data/storedata_total.csv\",\"data/storedata_total.csv\")\n",
    "s3_client.Bucket(bucket_name).upload_file(\"data/batch.csv\",\"data/batch/batch.csv\")\n",
    "s3_client.Bucket(bucket_name).upload_file(\"data/baseline.csv\",\"input/baseline/baseline.csv\")"
   ]
  },
  {
   "cell_type": "code",
   "execution_count": 10,
   "metadata": {},
   "outputs": [],
   "source": [
    "s3_client.Bucket(bucket_name).upload_file(\"pipelines/customerchurn/Preprocess.py\",\"input/code/Preprocess.py\")\n",
    "s3_client.Bucket(bucket_name).upload_file(\"pipelines/customerchurn/Evaluate.py\",\"input/code/Evaluate.py\")\n",
    "s3_client.Bucket(bucket_name).upload_file(\"pipelines/customerchurn/Generate_config.py\",\"input/code/Generate_config.py\")"
   ]
  },
  {
   "cell_type": "code",
   "execution_count": 11,
   "metadata": {},
   "outputs": [
    {
     "name": "stderr",
     "output_type": "stream",
     "text": [
      "WARNING:sagemaker.workflow.utilities:The input argument instance_type of function (sagemaker.image_uris.retrieve) is a pipeline variable (<class 'sagemaker.workflow.parameters.ParameterString'>), which is interpreted in pipeline execution time only. As the function needs to evaluate the argument value in SDK compile time, the default_value of this Parameter object will be used to override it. Please make sure the default_value is valid.\n",
      "INFO:sagemaker.image_uris:Defaulting to only available Python version: py3\n",
      "WARNING:sagemaker.workflow.utilities:The input argument instance_type of function (sagemaker.image_uris.retrieve) is a pipeline variable (<class 'sagemaker.workflow.parameters.ParameterString'>), which is interpreted in pipeline execution time only. As the function needs to evaluate the argument value in SDK compile time, the default_value of this Parameter object will be used to override it. Please make sure the default_value is valid.\n",
      "INFO:sagemaker.image_uris:Defaulting to the only supported framework/algorithm version: 1.0.\n",
      "INFO:sagemaker.image_uris:Ignoring unnecessary instance type: None.\n",
      "WARNING:sagemaker.deprecations:The class JsonGet has been renamed in sagemaker>=2.\n",
      "See: https://sagemaker.readthedocs.io/en/stable/v2.html for details.\n"
     ]
    }
   ],
   "source": [
    "from pipelines.customerchurn.Pipeline import get_pipeline\n",
    "\n",
    "pipeline = get_pipeline(\n",
    "    region = region,\n",
    "    role=role,\n",
    "    default_bucket=bucket_name,\n",
    "    model_package_group_name=model_package_group_name,\n",
    "    pipeline_name=pipeline_name,\n",
    "    custom_image_uri=clarify_image,\n",
    "    sklearn_processor_version=sklearn_processor_version\n",
    ")"
   ]
  },
  {
   "cell_type": "code",
   "execution_count": 12,
   "metadata": {},
   "outputs": [
    {
     "name": "stderr",
     "output_type": "stream",
     "text": [
      "WARNING:sagemaker.workflow.utilities:Popping out 'ProcessingJobName' from the pipeline definition by default since it will be overridden at pipeline execution time. Please utilize the PipelineDefinitionConfig to persist this field in the pipeline definition if desired.\n",
      "WARNING:sagemaker.estimator:No finished training job found associated with this estimator. Please make sure this estimator is only used for building workflow config\n",
      "WARNING:sagemaker.estimator:No finished training job found associated with this estimator. Please make sure this estimator is only used for building workflow config\n",
      "WARNING:sagemaker.workflow.utilities:Popping out 'HyperParameterTuningJobName' from the pipeline definition by default since it will be overridden at pipeline execution time. Please utilize the PipelineDefinitionConfig to persist this field in the pipeline definition if desired.\n",
      "WARNING:sagemaker.workflow.utilities:Popping out 'ProcessingJobName' from the pipeline definition by default since it will be overridden at pipeline execution time. Please utilize the PipelineDefinitionConfig to persist this field in the pipeline definition if desired.\n",
      "WARNING:sagemaker.estimator:No finished training job found associated with this estimator. Please make sure this estimator is only used for building workflow config\n",
      "WARNING:sagemaker.workflow._utils:Popping out 'CertifyForMarketplace' from the pipeline definition since it will be overridden in pipeline execution time.\n",
      "WARNING:sagemaker.workflow.utilities:Popping out 'ModelPackageName' from the pipeline definition by default since it will be overridden at pipeline execution time. Please utilize the PipelineDefinitionConfig to persist this field in the pipeline definition if desired.\n",
      "WARNING:sagemaker.workflow.utilities:Popping out 'ModelName' from the pipeline definition by default since it will be overridden at pipeline execution time. Please utilize the PipelineDefinitionConfig to persist this field in the pipeline definition if desired.\n",
      "WARNING:sagemaker.workflow.utilities:Popping out 'ProcessingJobName' from the pipeline definition by default since it will be overridden at pipeline execution time. Please utilize the PipelineDefinitionConfig to persist this field in the pipeline definition if desired.\n",
      "WARNING:sagemaker.workflow.utilities:Popping out 'TransformJobName' from the pipeline definition by default since it will be overridden at pipeline execution time. Please utilize the PipelineDefinitionConfig to persist this field in the pipeline definition if desired.\n",
      "WARNING:sagemaker.workflow.utilities:Popping out 'ProcessingJobName' from the pipeline definition by default since it will be overridden at pipeline execution time. Please utilize the PipelineDefinitionConfig to persist this field in the pipeline definition if desired.\n"
     ]
    },
    {
     "data": {
      "text/plain": [
       "'{\"Version\": \"2020-12-01\", \"Metadata\": {}, \"Parameters\": [{\"Name\": \"ProcessingInstanceType\", \"Type\": \"String\", \"DefaultValue\": \"ml.m5.xlarge\"}, {\"Name\": \"ProcessingInstanceCount\", \"Type\": \"Integer\", \"DefaultValue\": 1}, {\"Name\": \"TrainingInstanceType\", \"Type\": \"String\", \"DefaultValue\": \"ml.m5.xlarge\"}, {\"Name\": \"InputData\", \"Type\": \"String\", \"DefaultValue\": \"s3://sagemaker-studio-619071335465-gekmibeales/data/storedata_total.csv\"}, {\"Name\": \"BatchData\", \"Type\": \"String\", \"DefaultValue\": \"s3://sagemaker-studio-619071335465-gekmibeales/data/batch/batch.csv\"}], \"PipelineExperimentConfig\": {\"ExperimentName\": {\"Get\": \"Execution.PipelineName\"}, \"TrialName\": {\"Get\": \"Execution.PipelineExecutionId\"}}, \"Steps\": [{\"Name\": \"ChurnModelProcess\", \"Type\": \"Processing\", \"Arguments\": {\"ProcessingResources\": {\"ClusterConfig\": {\"InstanceType\": {\"Get\": \"Parameters.ProcessingInstanceType\"}, \"InstanceCount\": {\"Get\": \"Parameters.ProcessingInstanceCount\"}, \"VolumeSizeInGB\": 30}}, \"AppSpecification\": {\"ImageUri\": \"257758044811.dkr.ecr.us-east-2.amazonaws.com/sagemaker-scikit-learn:0.23-1-cpu-py3\", \"ContainerEntrypoint\": [\"python3\", \"/opt/ml/processing/input/code/Preprocess.py\"]}, \"RoleArn\": \"arn:aws:iam::619071335465:role/service-role/AmazonSageMaker-ExecutionRole-20240813T223657\", \"ProcessingInputs\": [{\"InputName\": \"input-1\", \"AppManaged\": false, \"S3Input\": {\"S3Uri\": {\"Get\": \"Parameters.InputData\"}, \"LocalPath\": \"/opt/ml/processing/input\", \"S3DataType\": \"S3Prefix\", \"S3InputMode\": \"File\", \"S3DataDistributionType\": \"FullyReplicated\", \"S3CompressionType\": \"None\"}}, {\"InputName\": \"code\", \"AppManaged\": false, \"S3Input\": {\"S3Uri\": \"s3://sagemaker-studio-619071335465-gekmibeales/input/code/Preprocess.py\", \"LocalPath\": \"/opt/ml/processing/input/code\", \"S3DataType\": \"S3Prefix\", \"S3InputMode\": \"File\", \"S3DataDistributionType\": \"FullyReplicated\", \"S3CompressionType\": \"None\"}}], \"ProcessingOutputConfig\": {\"Outputs\": [{\"OutputName\": \"train\", \"AppManaged\": false, \"S3Output\": {\"S3Uri\": \"s3://sagemaker-studio-619071335465-gekmibeales/output/train\", \"LocalPath\": \"/opt/ml/processing/train\", \"S3UploadMode\": \"EndOfJob\"}}, {\"OutputName\": \"validation\", \"AppManaged\": false, \"S3Output\": {\"S3Uri\": \"s3://sagemaker-studio-619071335465-gekmibeales/output/validation\", \"LocalPath\": \"/opt/ml/processing/validation\", \"S3UploadMode\": \"EndOfJob\"}}, {\"OutputName\": \"test\", \"AppManaged\": false, \"S3Output\": {\"S3Uri\": \"s3://sagemaker-studio-619071335465-gekmibeales/output/test\", \"LocalPath\": \"/opt/ml/processing/test\", \"S3UploadMode\": \"EndOfJob\"}}]}}}, {\"Name\": \"ChurnHyperParameterTuning\", \"Type\": \"Tuning\", \"Arguments\": {\"HyperParameterTuningJobConfig\": {\"Strategy\": \"Bayesian\", \"ResourceLimits\": {\"MaxNumberOfTrainingJobs\": 2, \"MaxParallelTrainingJobs\": 2}, \"TrainingJobEarlyStoppingType\": \"Off\", \"HyperParameterTuningJobObjective\": {\"Type\": \"Maximize\", \"MetricName\": \"validation:auc\"}, \"ParameterRanges\": {\"ContinuousParameterRanges\": [{\"Name\": \"eta\", \"MinValue\": \"0\", \"MaxValue\": \"1\", \"ScalingType\": \"Auto\"}, {\"Name\": \"min_child_weight\", \"MinValue\": \"1\", \"MaxValue\": \"10\", \"ScalingType\": \"Auto\"}, {\"Name\": \"alpha\", \"MinValue\": \"0\", \"MaxValue\": \"2\", \"ScalingType\": \"Auto\"}], \"CategoricalParameterRanges\": [], \"IntegerParameterRanges\": [{\"Name\": \"max_depth\", \"MinValue\": \"1\", \"MaxValue\": \"10\", \"ScalingType\": \"Auto\"}]}}, \"TrainingJobDefinition\": {\"StaticHyperParameters\": {\"eval_metric\": \"auc\", \"objective\": \"binary:logistic\", \"num_round\": \"100\", \"rate_drop\": \"0.3\", \"tweedie_variance_power\": \"1.4\"}, \"RoleArn\": \"arn:aws:iam::619071335465:role/service-role/AmazonSageMaker-ExecutionRole-20240813T223657\", \"OutputDataConfig\": {\"S3OutputPath\": \"s3://sagemaker-studio-619071335465-gekmibeales/output\"}, \"StoppingCondition\": {\"MaxRuntimeInSeconds\": 86400}, \"HyperParameterTuningResourceConfig\": {\"InstanceCount\": 1, \"InstanceType\": {\"Get\": \"Parameters.TrainingInstanceType\"}, \"VolumeSizeInGB\": 30}, \"AlgorithmSpecification\": {\"TrainingInputMode\": \"File\", \"TrainingImage\": \"257758044811.dkr.ecr.us-east-2.amazonaws.com/sagemaker-xgboost:1.0-1-cpu-py3\"}, \"InputDataConfig\": [{\"DataSource\": {\"S3DataSource\": {\"S3DataType\": \"S3Prefix\", \"S3Uri\": {\"Get\": \"Steps.ChurnModelProcess.ProcessingOutputConfig.Outputs[\\'train\\'].S3Output.S3Uri\"}, \"S3DataDistributionType\": \"FullyReplicated\"}}, \"ContentType\": \"text/csv\", \"ChannelName\": \"train\"}, {\"DataSource\": {\"S3DataSource\": {\"S3DataType\": \"S3Prefix\", \"S3Uri\": {\"Get\": \"Steps.ChurnModelProcess.ProcessingOutputConfig.Outputs[\\'validation\\'].S3Output.S3Uri\"}, \"S3DataDistributionType\": \"FullyReplicated\"}}, \"ContentType\": \"text/csv\", \"ChannelName\": \"validation\"}]}}}, {\"Name\": \"ChurnEvalBestModel\", \"Type\": \"Processing\", \"Arguments\": {\"ProcessingResources\": {\"ClusterConfig\": {\"InstanceType\": {\"Get\": \"Parameters.ProcessingInstanceType\"}, \"InstanceCount\": 1, \"VolumeSizeInGB\": 30}}, \"AppSpecification\": {\"ImageUri\": \"257758044811.dkr.ecr.us-east-2.amazonaws.com/sagemaker-xgboost:1.0-1-cpu-py3\", \"ContainerEntrypoint\": [\"python3\", \"/opt/ml/processing/input/code/Evaluate.py\"]}, \"RoleArn\": \"arn:aws:iam::619071335465:role/service-role/AmazonSageMaker-ExecutionRole-20240813T223657\", \"ProcessingInputs\": [{\"InputName\": \"input-1\", \"AppManaged\": false, \"S3Input\": {\"S3Uri\": {\"Std:Join\": {\"On\": \"/\", \"Values\": [\"s3:/\", \"sagemaker-studio-619071335465-gekmibeales\", \"output\", {\"Get\": \"Steps.ChurnHyperParameterTuning.TrainingJobSummaries[0].TrainingJobName\"}, \"output/model.tar.gz\"]}}, \"LocalPath\": \"/opt/ml/processing/model\", \"S3DataType\": \"S3Prefix\", \"S3InputMode\": \"File\", \"S3DataDistributionType\": \"FullyReplicated\", \"S3CompressionType\": \"None\"}}, {\"InputName\": \"input-2\", \"AppManaged\": false, \"S3Input\": {\"S3Uri\": {\"Get\": \"Steps.ChurnModelProcess.ProcessingOutputConfig.Outputs[\\'test\\'].S3Output.S3Uri\"}, \"LocalPath\": \"/opt/ml/processing/test\", \"S3DataType\": \"S3Prefix\", \"S3InputMode\": \"File\", \"S3DataDistributionType\": \"FullyReplicated\", \"S3CompressionType\": \"None\"}}, {\"InputName\": \"code\", \"AppManaged\": false, \"S3Input\": {\"S3Uri\": \"s3://sagemaker-studio-619071335465-gekmibeales/input/code/Evaluate.py\", \"LocalPath\": \"/opt/ml/processing/input/code\", \"S3DataType\": \"S3Prefix\", \"S3InputMode\": \"File\", \"S3DataDistributionType\": \"FullyReplicated\", \"S3CompressionType\": \"None\"}}], \"ProcessingOutputConfig\": {\"Outputs\": [{\"OutputName\": \"evaluation\", \"AppManaged\": false, \"S3Output\": {\"S3Uri\": \"s3://sagemaker-studio-619071335465-gekmibeales/output/evaluation\", \"LocalPath\": \"/opt/ml/processing/evaluation\", \"S3UploadMode\": \"EndOfJob\"}}]}}, \"PropertyFiles\": [{\"PropertyFileName\": \"ChurnEvaluationReport\", \"OutputName\": \"evaluation\", \"FilePath\": \"evaluation.json\"}]}, {\"Name\": \"CheckAUCScoreChurnEvaluation\", \"Type\": \"Condition\", \"Arguments\": {\"Conditions\": [{\"Type\": \"GreaterThan\", \"LeftValue\": {\"Std:JsonGet\": {\"PropertyFile\": {\"Get\": \"Steps.ChurnEvalBestModel.PropertyFiles.ChurnEvaluationReport\"}, \"Path\": \"classification_metrics.auc_score.value\"}}, \"RightValue\": 0.75}], \"IfSteps\": [{\"Name\": \"RegisterChurnModel-RegisterModel\", \"Type\": \"RegisterModel\", \"Arguments\": {\"ModelPackageGroupName\": \"ChurnModelPackageGroup\", \"ModelMetrics\": {\"ModelQuality\": {\"Statistics\": {\"ContentType\": \"application/json\", \"S3Uri\": \"s3://sagemaker-studio-619071335465-gekmibeales/evaluation.json\"}}, \"Bias\": {}, \"Explainability\": {}}, \"InferenceSpecification\": {\"Containers\": [{\"Image\": \"257758044811.dkr.ecr.us-east-2.amazonaws.com/sagemaker-xgboost:1.0-1-cpu-py3\", \"ModelDataUrl\": {\"Std:Join\": {\"On\": \"/\", \"Values\": [\"s3:/\", \"sagemaker-studio-619071335465-gekmibeales\", \"output\", {\"Get\": \"Steps.ChurnHyperParameterTuning.TrainingJobSummaries[0].TrainingJobName\"}, \"output/model.tar.gz\"]}}}], \"SupportedContentTypes\": [\"text/csv\"], \"SupportedResponseMIMETypes\": [\"text/csv\"], \"SupportedRealtimeInferenceInstanceTypes\": [\"ml.t2.medium\", \"ml.m5.large\"], \"SupportedTransformInstanceTypes\": [\"ml.m5.large\"]}, \"ModelApprovalStatus\": \"PendingManualApproval\", \"SkipModelValidation\": \"None\"}}, {\"Name\": \"ChurnCreateModel\", \"Type\": \"Model\", \"Arguments\": {\"ExecutionRoleArn\": \"arn:aws:iam::619071335465:role/service-role/AmazonSageMaker-ExecutionRole-20240813T223657\", \"PrimaryContainer\": {\"Image\": \"257758044811.dkr.ecr.us-east-2.amazonaws.com/sagemaker-xgboost:1.0-1-cpu-py3\", \"Environment\": {}, \"ModelDataUrl\": {\"Std:Join\": {\"On\": \"/\", \"Values\": [\"s3:/\", \"sagemaker-studio-619071335465-gekmibeales\", \"output\", {\"Get\": \"Steps.ChurnHyperParameterTuning.TrainingJobSummaries[0].TrainingJobName\"}, \"output/model.tar.gz\"]}}}}}, {\"Name\": \"ChurnModelConfigFile\", \"Type\": \"Processing\", \"Arguments\": {\"ProcessingResources\": {\"ClusterConfig\": {\"InstanceType\": {\"Get\": \"Parameters.ProcessingInstanceType\"}, \"InstanceCount\": 1, \"VolumeSizeInGB\": 30}}, \"AppSpecification\": {\"ImageUri\": \"257758044811.dkr.ecr.us-east-2.amazonaws.com/sagemaker-scikit-learn:0.23-1-cpu-py3\", \"ContainerArguments\": [\"--modelname\", {\"Get\": \"Steps.ChurnCreateModel.ModelName\"}, \"--bias-report-output-path\", \"s3://sagemaker-studio-619071335465-gekmibeales/clarify-output/bias\", \"--clarify-instance-type\", \"ml.c5.xlarge\", \"--default-bucket\", \"sagemaker-studio-619071335465-gekmibeales\", \"--num-baseline-samples\", \"50\", \"--instance-count\", \"1\"], \"ContainerEntrypoint\": [\"python3\", \"/opt/ml/processing/input/code/Generate_config.py\"]}, \"RoleArn\": \"arn:aws:iam::619071335465:role/service-role/AmazonSageMaker-ExecutionRole-20240813T223657\", \"ProcessingInputs\": [{\"InputName\": \"code\", \"AppManaged\": false, \"S3Input\": {\"S3Uri\": \"s3://sagemaker-studio-619071335465-gekmibeales/input/code/Generate_config.py\", \"LocalPath\": \"/opt/ml/processing/input/code\", \"S3DataType\": \"S3Prefix\", \"S3InputMode\": \"File\", \"S3DataDistributionType\": \"FullyReplicated\", \"S3CompressionType\": \"None\"}}]}, \"DependsOn\": [\"ChurnCreateModel\"]}, {\"Name\": \"ChurnTransform\", \"Type\": \"Transform\", \"Arguments\": {\"ModelName\": {\"Get\": \"Steps.ChurnCreateModel.ModelName\"}, \"TransformInput\": {\"DataSource\": {\"S3DataSource\": {\"S3DataType\": \"S3Prefix\", \"S3Uri\": {\"Get\": \"Parameters.BatchData\"}}}, \"ContentType\": \"text/csv\"}, \"TransformOutput\": {\"S3OutputPath\": \"s3://sagemaker-studio-619071335465-gekmibeales/ChurnTransform\"}, \"TransformResources\": {\"InstanceCount\": 1, \"InstanceType\": \"ml.m5.xlarge\"}}}, {\"Name\": \"ClarifyProcessingStep\", \"Type\": \"Processing\", \"Arguments\": {\"ProcessingResources\": {\"ClusterConfig\": {\"InstanceType\": \"ml.c5.xlarge\", \"InstanceCount\": 1, \"VolumeSizeInGB\": 30}}, \"AppSpecification\": {\"ImageUri\": \"211330385671.dkr.ecr.us-east-2.amazonaws.com/sagemaker-clarify-processing:1.0\"}, \"RoleArn\": \"arn:aws:iam::619071335465:role/service-role/AmazonSageMaker-ExecutionRole-20240813T223657\", \"ProcessingInputs\": [{\"InputName\": \"dataset\", \"AppManaged\": false, \"S3Input\": {\"S3Uri\": \"s3://sagemaker-studio-619071335465-gekmibeales/output/train/train.csv\", \"LocalPath\": \"/opt/ml/processing/input/data\", \"S3DataType\": \"S3Prefix\", \"S3InputMode\": \"File\", \"S3DataDistributionType\": \"FullyReplicated\", \"S3CompressionType\": \"None\"}}, {\"InputName\": \"analysis_config\", \"AppManaged\": false, \"S3Input\": {\"S3Uri\": \"s3://sagemaker-studio-619071335465-gekmibeales/clarify-output/bias/analysis_config.json\", \"LocalPath\": \"/opt/ml/processing/input/analysis_config\", \"S3DataType\": \"S3Prefix\", \"S3InputMode\": \"File\", \"S3DataDistributionType\": \"FullyReplicated\", \"S3CompressionType\": \"None\"}}], \"ProcessingOutputConfig\": {\"Outputs\": [{\"OutputName\": \"analysis_result\", \"AppManaged\": false, \"S3Output\": {\"S3Uri\": \"s3://sagemaker-studio-619071335465-gekmibeales/clarify-output/bias\", \"LocalPath\": \"/opt/ml/processing/output\", \"S3UploadMode\": \"EndOfJob\"}}]}}, \"DependsOn\": [\"ChurnModelConfigFile\"]}], \"ElseSteps\": []}}]}'"
      ]
     },
     "execution_count": 12,
     "metadata": {},
     "output_type": "execute_result"
    }
   ],
   "source": [
    "pipeline.definition()"
   ]
  },
  {
   "cell_type": "code",
   "execution_count": 13,
   "metadata": {},
   "outputs": [
    {
     "name": "stderr",
     "output_type": "stream",
     "text": [
      "WARNING:sagemaker.workflow.utilities:Popping out 'ProcessingJobName' from the pipeline definition by default since it will be overridden at pipeline execution time. Please utilize the PipelineDefinitionConfig to persist this field in the pipeline definition if desired.\n",
      "WARNING:sagemaker.estimator:No finished training job found associated with this estimator. Please make sure this estimator is only used for building workflow config\n",
      "WARNING:sagemaker.estimator:No finished training job found associated with this estimator. Please make sure this estimator is only used for building workflow config\n",
      "WARNING:sagemaker.workflow.utilities:Popping out 'HyperParameterTuningJobName' from the pipeline definition by default since it will be overridden at pipeline execution time. Please utilize the PipelineDefinitionConfig to persist this field in the pipeline definition if desired.\n",
      "WARNING:sagemaker.workflow.utilities:Popping out 'ProcessingJobName' from the pipeline definition by default since it will be overridden at pipeline execution time. Please utilize the PipelineDefinitionConfig to persist this field in the pipeline definition if desired.\n",
      "WARNING:sagemaker.estimator:No finished training job found associated with this estimator. Please make sure this estimator is only used for building workflow config\n",
      "WARNING:sagemaker.workflow._utils:Popping out 'CertifyForMarketplace' from the pipeline definition since it will be overridden in pipeline execution time.\n",
      "WARNING:sagemaker.workflow.utilities:Popping out 'ModelPackageName' from the pipeline definition by default since it will be overridden at pipeline execution time. Please utilize the PipelineDefinitionConfig to persist this field in the pipeline definition if desired.\n",
      "WARNING:sagemaker.workflow.utilities:Popping out 'ModelName' from the pipeline definition by default since it will be overridden at pipeline execution time. Please utilize the PipelineDefinitionConfig to persist this field in the pipeline definition if desired.\n",
      "WARNING:sagemaker.workflow.utilities:Popping out 'ProcessingJobName' from the pipeline definition by default since it will be overridden at pipeline execution time. Please utilize the PipelineDefinitionConfig to persist this field in the pipeline definition if desired.\n",
      "WARNING:sagemaker.workflow.utilities:Popping out 'TransformJobName' from the pipeline definition by default since it will be overridden at pipeline execution time. Please utilize the PipelineDefinitionConfig to persist this field in the pipeline definition if desired.\n",
      "WARNING:sagemaker.workflow.utilities:Popping out 'ProcessingJobName' from the pipeline definition by default since it will be overridden at pipeline execution time. Please utilize the PipelineDefinitionConfig to persist this field in the pipeline definition if desired.\n",
      "WARNING:sagemaker.workflow.utilities:Popping out 'ProcessingJobName' from the pipeline definition by default since it will be overridden at pipeline execution time. Please utilize the PipelineDefinitionConfig to persist this field in the pipeline definition if desired.\n",
      "WARNING:sagemaker.estimator:No finished training job found associated with this estimator. Please make sure this estimator is only used for building workflow config\n",
      "WARNING:sagemaker.estimator:No finished training job found associated with this estimator. Please make sure this estimator is only used for building workflow config\n",
      "WARNING:sagemaker.workflow.utilities:Popping out 'HyperParameterTuningJobName' from the pipeline definition by default since it will be overridden at pipeline execution time. Please utilize the PipelineDefinitionConfig to persist this field in the pipeline definition if desired.\n",
      "WARNING:sagemaker.workflow.utilities:Popping out 'ProcessingJobName' from the pipeline definition by default since it will be overridden at pipeline execution time. Please utilize the PipelineDefinitionConfig to persist this field in the pipeline definition if desired.\n",
      "WARNING:sagemaker.estimator:No finished training job found associated with this estimator. Please make sure this estimator is only used for building workflow config\n",
      "WARNING:sagemaker.workflow._utils:Popping out 'CertifyForMarketplace' from the pipeline definition since it will be overridden in pipeline execution time.\n",
      "WARNING:sagemaker.workflow.utilities:Popping out 'ModelPackageName' from the pipeline definition by default since it will be overridden at pipeline execution time. Please utilize the PipelineDefinitionConfig to persist this field in the pipeline definition if desired.\n",
      "WARNING:sagemaker.workflow.utilities:Popping out 'ModelName' from the pipeline definition by default since it will be overridden at pipeline execution time. Please utilize the PipelineDefinitionConfig to persist this field in the pipeline definition if desired.\n",
      "WARNING:sagemaker.workflow.utilities:Popping out 'ProcessingJobName' from the pipeline definition by default since it will be overridden at pipeline execution time. Please utilize the PipelineDefinitionConfig to persist this field in the pipeline definition if desired.\n",
      "WARNING:sagemaker.workflow.utilities:Popping out 'TransformJobName' from the pipeline definition by default since it will be overridden at pipeline execution time. Please utilize the PipelineDefinitionConfig to persist this field in the pipeline definition if desired.\n",
      "WARNING:sagemaker.workflow.utilities:Popping out 'ProcessingJobName' from the pipeline definition by default since it will be overridden at pipeline execution time. Please utilize the PipelineDefinitionConfig to persist this field in the pipeline definition if desired.\n"
     ]
    },
    {
     "data": {
      "text/plain": [
       "{'PipelineArn': 'arn:aws:sagemaker:us-east-2:619071335465:pipeline/ChurnModelSMPipeline',\n",
       " 'ResponseMetadata': {'RequestId': 'c16b2ab7-4ec6-414b-ba1f-aaf92b6ada0e',\n",
       "  'HTTPStatusCode': 200,\n",
       "  'HTTPHeaders': {'x-amzn-requestid': 'c16b2ab7-4ec6-414b-ba1f-aaf92b6ada0e',\n",
       "   'content-type': 'application/x-amz-json-1.1',\n",
       "   'content-length': '88',\n",
       "   'date': 'Sat, 31 Aug 2024 14:25:04 GMT'},\n",
       "  'RetryAttempts': 0}}"
      ]
     },
     "execution_count": 13,
     "metadata": {},
     "output_type": "execute_result"
    }
   ],
   "source": [
    "pipeline.upsert(role_arn=role)"
   ]
  },
  {
   "cell_type": "code",
   "execution_count": 14,
   "metadata": {},
   "outputs": [],
   "source": [
    "execution = pipeline.start()"
   ]
  },
  {
   "cell_type": "code",
   "execution_count": 15,
   "metadata": {},
   "outputs": [
    {
     "data": {
      "text/plain": [
       "{'PipelineArn': 'arn:aws:sagemaker:us-east-2:619071335465:pipeline/ChurnModelSMPipeline',\n",
       " 'PipelineExecutionArn': 'arn:aws:sagemaker:us-east-2:619071335465:pipeline/ChurnModelSMPipeline/execution/lhlcfp7xmjw5',\n",
       " 'PipelineExecutionDisplayName': 'execution-1725114305621',\n",
       " 'PipelineExecutionStatus': 'Executing',\n",
       " 'CreationTime': datetime.datetime(2024, 8, 31, 14, 25, 5, 559000, tzinfo=tzlocal()),\n",
       " 'LastModifiedTime': datetime.datetime(2024, 8, 31, 14, 25, 5, 559000, tzinfo=tzlocal()),\n",
       " 'CreatedBy': {'UserProfileArn': 'arn:aws:sagemaker:us-east-2:619071335465:user-profile/d-nhxkawwhz6jg/default-20240813T223656',\n",
       "  'UserProfileName': 'default-20240813T223656',\n",
       "  'DomainId': 'd-nhxkawwhz6jg',\n",
       "  'IamIdentity': {'Arn': 'arn:aws:sts::619071335465:assumed-role/AmazonSageMaker-ExecutionRole-20240813T223657/SageMaker',\n",
       "   'PrincipalId': 'AROAZAI4G5QUY2D2EWVUE:SageMaker'}},\n",
       " 'LastModifiedBy': {'UserProfileArn': 'arn:aws:sagemaker:us-east-2:619071335465:user-profile/d-nhxkawwhz6jg/default-20240813T223656',\n",
       "  'UserProfileName': 'default-20240813T223656',\n",
       "  'DomainId': 'd-nhxkawwhz6jg',\n",
       "  'IamIdentity': {'Arn': 'arn:aws:sts::619071335465:assumed-role/AmazonSageMaker-ExecutionRole-20240813T223657/SageMaker',\n",
       "   'PrincipalId': 'AROAZAI4G5QUY2D2EWVUE:SageMaker'}},\n",
       " 'ResponseMetadata': {'RequestId': '9dc18985-87e5-4bc6-b044-a98c2b3807db',\n",
       "  'HTTPStatusCode': 200,\n",
       "  'HTTPHeaders': {'x-amzn-requestid': '9dc18985-87e5-4bc6-b044-a98c2b3807db',\n",
       "   'content-type': 'application/x-amz-json-1.1',\n",
       "   'content-length': '1105',\n",
       "   'date': 'Sat, 31 Aug 2024 14:25:05 GMT'},\n",
       "  'RetryAttempts': 0}}"
      ]
     },
     "execution_count": 15,
     "metadata": {},
     "output_type": "execute_result"
    }
   ],
   "source": [
    "execution.describe()"
   ]
  },
  {
   "cell_type": "code",
   "execution_count": 29,
   "metadata": {},
   "outputs": [
    {
     "data": {
      "text/plain": [
       "[{'StepName': 'ClarifyProcessingStep',\n",
       "  'StartTime': datetime.datetime(2024, 8, 31, 14, 35, 21, 367000, tzinfo=tzlocal()),\n",
       "  'EndTime': datetime.datetime(2024, 8, 31, 14, 52, 55, 787000, tzinfo=tzlocal()),\n",
       "  'StepStatus': 'Succeeded',\n",
       "  'Metadata': {'ProcessingJob': {'Arn': 'arn:aws:sagemaker:us-east-2:619071335465:processing-job/pipelines-lhlcfp7xmjw5-ClarifyProcessingSte-UED8WHhqA5'}},\n",
       "  'AttemptCount': 1},\n",
       " {'StepName': 'ChurnModelConfigFile',\n",
       "  'StartTime': datetime.datetime(2024, 8, 31, 14, 32, 48, 225000, tzinfo=tzlocal()),\n",
       "  'EndTime': datetime.datetime(2024, 8, 31, 14, 35, 20, 393000, tzinfo=tzlocal()),\n",
       "  'StepStatus': 'Succeeded',\n",
       "  'Metadata': {'ProcessingJob': {'Arn': 'arn:aws:sagemaker:us-east-2:619071335465:processing-job/pipelines-lhlcfp7xmjw5-ChurnModelConfigFile-WLBUbZ46Dv'}},\n",
       "  'AttemptCount': 1},\n",
       " {'StepName': 'ChurnTransform',\n",
       "  'StartTime': datetime.datetime(2024, 8, 31, 14, 32, 48, 225000, tzinfo=tzlocal()),\n",
       "  'EndTime': datetime.datetime(2024, 8, 31, 14, 37, 27, 2000, tzinfo=tzlocal()),\n",
       "  'StepStatus': 'Succeeded',\n",
       "  'Metadata': {'TransformJob': {'Arn': 'arn:aws:sagemaker:us-east-2:619071335465:transform-job/pipelines-lhlcfp7xmjw5-ChurnTransform-nzWgfDjsgu'}},\n",
       "  'AttemptCount': 1},\n",
       " {'StepName': 'RegisterChurnModel-RegisterModel',\n",
       "  'StartTime': datetime.datetime(2024, 8, 31, 14, 32, 46, 966000, tzinfo=tzlocal()),\n",
       "  'EndTime': datetime.datetime(2024, 8, 31, 14, 32, 47, 837000, tzinfo=tzlocal()),\n",
       "  'StepStatus': 'Succeeded',\n",
       "  'Metadata': {'RegisterModel': {'Arn': 'arn:aws:sagemaker:us-east-2:619071335465:model-package/ChurnModelPackageGroup/5'}},\n",
       "  'AttemptCount': 1},\n",
       " {'StepName': 'ChurnCreateModel',\n",
       "  'StartTime': datetime.datetime(2024, 8, 31, 14, 32, 46, 966000, tzinfo=tzlocal()),\n",
       "  'EndTime': datetime.datetime(2024, 8, 31, 14, 32, 48, 51000, tzinfo=tzlocal()),\n",
       "  'StepStatus': 'Succeeded',\n",
       "  'Metadata': {'Model': {'Arn': 'arn:aws:sagemaker:us-east-2:619071335465:model/pipelines-lhlcfp7xmjw5-ChurnCreateModel-SFliDvWTwM'}},\n",
       "  'AttemptCount': 1},\n",
       " {'StepName': 'CheckAUCScoreChurnEvaluation',\n",
       "  'StartTime': datetime.datetime(2024, 8, 31, 14, 32, 46, 196000, tzinfo=tzlocal()),\n",
       "  'EndTime': datetime.datetime(2024, 8, 31, 14, 32, 46, 502000, tzinfo=tzlocal()),\n",
       "  'StepStatus': 'Succeeded',\n",
       "  'Metadata': {'Condition': {'Outcome': 'True'}},\n",
       "  'AttemptCount': 1},\n",
       " {'StepName': 'ChurnEvalBestModel',\n",
       "  'StartTime': datetime.datetime(2024, 8, 31, 14, 30, 8, 664000, tzinfo=tzlocal()),\n",
       "  'EndTime': datetime.datetime(2024, 8, 31, 14, 32, 45, 751000, tzinfo=tzlocal()),\n",
       "  'StepStatus': 'Succeeded',\n",
       "  'Metadata': {'ProcessingJob': {'Arn': 'arn:aws:sagemaker:us-east-2:619071335465:processing-job/pipelines-lhlcfp7xmjw5-ChurnEvalBestModel-ukbyjsnQDl'}},\n",
       "  'AttemptCount': 1},\n",
       " {'StepName': 'ChurnHyperParameterTuning',\n",
       "  'StartTime': datetime.datetime(2024, 8, 31, 14, 27, 40, 102000, tzinfo=tzlocal()),\n",
       "  'EndTime': datetime.datetime(2024, 8, 31, 14, 30, 8, 61000, tzinfo=tzlocal()),\n",
       "  'StepStatus': 'Succeeded',\n",
       "  'Metadata': {'TuningJob': {'Arn': 'arn:aws:sagemaker:us-east-2:619071335465:hyper-parameter-tuning-job/lhlcfp7xmjw5-ChurnHyp-6mRMAPkZ74'}},\n",
       "  'AttemptCount': 1},\n",
       " {'StepName': 'ChurnModelProcess',\n",
       "  'StartTime': datetime.datetime(2024, 8, 31, 14, 25, 6, 825000, tzinfo=tzlocal()),\n",
       "  'EndTime': datetime.datetime(2024, 8, 31, 14, 27, 39, 376000, tzinfo=tzlocal()),\n",
       "  'StepStatus': 'Succeeded',\n",
       "  'Metadata': {'ProcessingJob': {'Arn': 'arn:aws:sagemaker:us-east-2:619071335465:processing-job/pipelines-lhlcfp7xmjw5-ChurnModelProcess-iaXrMigCK8'}},\n",
       "  'AttemptCount': 1}]"
      ]
     },
     "execution_count": 29,
     "metadata": {},
     "output_type": "execute_result"
    }
   ],
   "source": [
    "execution.list_steps()"
   ]
  },
  {
   "cell_type": "code",
   "execution_count": 30,
   "metadata": {},
   "outputs": [
    {
     "name": "stdout",
     "output_type": "stream",
     "text": [
      "The best training job is: 0g26hwmpigll-ChurnHyp-VmPm5Wz2y5-002-4dea62f1\n"
     ]
    }
   ],
   "source": [
    "sagemaker_client = boto3.client('sagemaker')\n",
    "\n",
    "tuning_job_name = '0g26hwmpigll-ChurnHyp-VmPm5Wz2y5'\n",
    "\n",
    "tuning_job_result = sagemaker_client.describe_hyper_parameter_tuning_job(HyperParameterTuningJobName=tuning_job_name)\n",
    "best_training_job = tuning_job_result['BestTrainingJob']['TrainingJobName']\n",
    "\n",
    "print(f\"The best training job is: {best_training_job}\")"
   ]
  },
  {
   "cell_type": "code",
   "execution_count": 35,
   "metadata": {},
   "outputs": [
    {
     "name": "stdout",
     "output_type": "stream",
     "text": [
      "s3://sagemaker-studio-619071335465-gekmibeales/output/0g26hwmpigll-ChurnHyp-VmPm5Wz2y5-002-4dea62f1/output/model.tar.gz\n"
     ]
    }
   ],
   "source": [
    "model_artifact = f\"s3://{bucket_name}/output/{best_training_job}/output/model.tar.gz\"\n",
    "\n",
    "print(model_artifact)"
   ]
  },
  {
   "cell_type": "code",
   "execution_count": 37,
   "metadata": {},
   "outputs": [
    {
     "name": "stderr",
     "output_type": "stream",
     "text": [
      "INFO:sagemaker.image_uris:Defaulting to only available Python version: py3\n",
      "INFO:sagemaker.image_uris:Defaulting to only supported image scope: cpu.\n"
     ]
    },
    {
     "name": "stdout",
     "output_type": "stream",
     "text": [
      "257758044811.dkr.ecr.us-east-2.amazonaws.com/sagemaker-xgboost:1.0-1-cpu-py3\n"
     ]
    }
   ],
   "source": [
    "image_uri_xgboost = sagemaker.image_uris.retrieve(framework='xgboost',version=\"1.0-1\",region=region)\n",
    "\n",
    "print(image_uri_xgboost)"
   ]
  },
  {
   "cell_type": "code",
   "execution_count": 46,
   "metadata": {},
   "outputs": [
    {
     "name": "stderr",
     "output_type": "stream",
     "text": [
      "INFO:sagemaker:Creating model with name: sagemaker-xgboost-2024-08-31-21-49-40-438\n"
     ]
    },
    {
     "name": "stderr",
     "output_type": "stream",
     "text": [
      "INFO:sagemaker:Creating endpoint-config with name churn-prediction-2024-08-31-02\n",
      "INFO:sagemaker:Creating endpoint with name churn-prediction-2024-08-31-02\n"
     ]
    },
    {
     "name": "stdout",
     "output_type": "stream",
     "text": [
      "-----!Endpoint Status: InService\n",
      "Endpoint Config Name: churn-prediction-2024-08-31-02\n"
     ]
    }
   ],
   "source": [
    "model = sagemaker.model.Model(\n",
    "    model_data=model_artifact,\n",
    "    role=role,\n",
    "    image_uri=image_uri_xgboost,\n",
    "    sagemaker_session=sagemaker.Session()\n",
    ")\n",
    "\n",
    "\n",
    "predictor = model.deploy(\n",
    "    initial_instance_count=1,\n",
    "    instance_type='ml.m5.xlarge',\n",
    "    endpoint_name=\"churn-prediction-2024-08-31-02\"\n",
    "\n",
    ")\n",
    "\n",
    "endpoint_name = \"churn-prediction-2024-08-31-02\"\n",
    "endpoint_description = sagemaker_client.describe_endpoint(EndpointName=endpoint_name)\n",
    "\n",
    "print(\"Endpoint Status:\", endpoint_description['EndpointStatus'])\n",
    "print(\"Endpoint Config Name:\", endpoint_description['EndpointConfigName'])"
   ]
  },
  {
   "cell_type": "code",
   "execution_count": 56,
   "metadata": {},
   "outputs": [
    {
     "name": "stdout",
     "output_type": "stream",
     "text": [
      "0.9733109474182129,0.9569705724716187,0.0025336432736366987,0.9771817326545715,0.0012906994670629501,0.783551037311554\n"
     ]
    }
   ],
   "source": [
    "from io import StringIO\n",
    "\n",
    "input_data = pd.read_csv('data/baseline.csv', header=None)\n",
    "\n",
    "csv_buffer = StringIO()\n",
    "input_data.to_csv(csv_buffer, header=False, index=False)\n",
    "csv_buffer.seek(0)\n",
    "\n",
    "\n",
    "client = boto3.client('sagemaker-runtime', region_name=region)\n",
    "\n",
    "response = client.invoke_endpoint(\n",
    "    EndpointName='churn-prediction-2024-08-31-02',\n",
    "    Body=csv_buffer.getvalue(), \n",
    "    ContentType='text/csv'\n",
    ")\n",
    "\n",
    "result = response['Body'].read().decode('utf-8')\n",
    "print(result)\n"
   ]
  }
 ],
 "metadata": {
  "kernelspec": {
   "display_name": "base",
   "language": "python",
   "name": "python3"
  },
  "language_info": {
   "codemirror_mode": {
    "name": "ipython",
    "version": 3
   },
   "file_extension": ".py",
   "mimetype": "text/x-python",
   "name": "python",
   "nbconvert_exporter": "python",
   "pygments_lexer": "ipython3",
   "version": "3.10.14"
  }
 },
 "nbformat": 4,
 "nbformat_minor": 2
}
